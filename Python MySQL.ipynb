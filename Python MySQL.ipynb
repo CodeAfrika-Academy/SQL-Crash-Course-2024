{
 "cells": [
  {
   "cell_type": "code",
   "execution_count": 1,
   "metadata": {},
   "outputs": [],
   "source": [
    "import mysql.connector"
   ]
  },
  {
   "cell_type": "code",
   "execution_count": 14,
   "metadata": {},
   "outputs": [],
   "source": [
    "db = mysql.connector.connect(\n",
    "    host= 'localhost',\n",
    "    user = 'root',\n",
    "    password ='dev123'\n",
    ")"
   ]
  },
  {
   "cell_type": "code",
   "execution_count": 15,
   "metadata": {},
   "outputs": [
    {
     "name": "stdout",
     "output_type": "stream",
     "text": [
      "Connection successful!\n"
     ]
    }
   ],
   "source": [
    "if db:\n",
    "    print(\"Connection successful!\")"
   ]
  },
  {
   "cell_type": "code",
   "execution_count": 40,
   "metadata": {},
   "outputs": [],
   "source": [
    "c = db.cursor()"
   ]
  },
  {
   "cell_type": "code",
   "execution_count": 8,
   "metadata": {},
   "outputs": [],
   "source": [
    "c.execute(\"CREATE DATABASE PYTHONMYSQL24\")"
   ]
  },
  {
   "cell_type": "code",
   "execution_count": 17,
   "metadata": {},
   "outputs": [],
   "source": [
    "# Executing SQL query to get all databases\n",
    "c.execute(\"SHOW DATABASES\")"
   ]
  },
  {
   "cell_type": "code",
   "execution_count": 18,
   "metadata": {},
   "outputs": [
    {
     "name": "stdout",
     "output_type": "stream",
     "text": [
      "('information_schema',)\n",
      "('myfirstdb',)\n",
      "('mysql',)\n",
      "('ngenodb',)\n",
      "('performance_schema',)\n",
      "('pythonmysql24',)\n",
      "('sys',)\n"
     ]
    }
   ],
   "source": [
    "for database in c: \n",
    "    print (database)"
   ]
  },
  {
   "cell_type": "code",
   "execution_count": 19,
   "metadata": {},
   "outputs": [],
   "source": [
    "c.execute(\"USE pythonmysql24\")"
   ]
  },
  {
   "cell_type": "code",
   "execution_count": 20,
   "metadata": {},
   "outputs": [],
   "source": [
    "c.execute(\"CREATE TABLE employees (id INT AUTO_INCREMENT PRIMARY KEY, EmployeeNo Varchar(255), FirstName Varchar(255), LastName Varchar(255), Age INT, Role Varchar(50))\")"
   ]
  },
  {
   "cell_type": "code",
   "execution_count": 28,
   "metadata": {},
   "outputs": [],
   "source": [
    "c.execute(\"SHOW tables\")"
   ]
  },
  {
   "cell_type": "code",
   "execution_count": 29,
   "metadata": {},
   "outputs": [
    {
     "name": "stdout",
     "output_type": "stream",
     "text": [
      "('departments',)\n",
      "('employees',)\n"
     ]
    }
   ],
   "source": [
    "for table in c:\n",
    "    print(table)"
   ]
  },
  {
   "cell_type": "code",
   "execution_count": 23,
   "metadata": {},
   "outputs": [],
   "source": [
    "c.execute(\"ALTER TABLE employees ADD Column Phone varChar(255)\")"
   ]
  },
  {
   "cell_type": "code",
   "execution_count": 24,
   "metadata": {},
   "outputs": [],
   "source": [
    "c.execute(\"CREATE TABLE Departments (id INT AUTO_INCREMENT PRIMARY KEY, name varChar(255), Head INT, FOREIGN KEY (Head) REFERENCES employees(id))\")"
   ]
  },
  {
   "cell_type": "code",
   "execution_count": 26,
   "metadata": {},
   "outputs": [],
   "source": [
    "c.execute(\"ALTER TABLE employees ADD COLUMN DepartmentID INT\")"
   ]
  },
  {
   "cell_type": "code",
   "execution_count": 27,
   "metadata": {},
   "outputs": [],
   "source": [
    "c.execute(\"ALTER TABLE employees ADD FOREIGN KEY (DepartmentID) REFERENCES departments(id)\")"
   ]
  },
  {
   "cell_type": "code",
   "execution_count": 30,
   "metadata": {},
   "outputs": [],
   "source": [
    "c.execute(\"SELECT * FROM employees\")"
   ]
  },
  {
   "cell_type": "code",
   "execution_count": 31,
   "metadata": {},
   "outputs": [],
   "source": [
    "for row in c:\n",
    "    print(row)"
   ]
  },
  {
   "cell_type": "code",
   "execution_count": 32,
   "metadata": {},
   "outputs": [],
   "source": [
    "c.execute(\"INSERT INTO Departments (name) VALUES ('Human Resources'), ('Engineering'), ('Marketing')\")"
   ]
  },
  {
   "cell_type": "code",
   "execution_count": 44,
   "metadata": {},
   "outputs": [],
   "source": [
    "sql = \"INSERT INTO employees (EmployeeNo, FirstName, LastName, DepartmentID,Age, Phone ) VALUES (%s,%s, %s, %s, %s, %s)\"\n",
    "val= ('101', 'Roy', 'Kiprop',1,22,'70043234')\n",
    "c.execute(sql,val)\n",
    "\n",
    "#Commit Changes to DB\n",
    "\n",
    "db.commit()\n",
    "\n",
    "print(c.rowcount, \"rows affected.\")"
   ]
  },
  {
   "cell_type": "code",
   "execution_count": 48,
   "metadata": {},
   "outputs": [
    {
     "name": "stdout",
     "output_type": "stream",
     "text": [
      "4 rows affected.\n"
     ]
    }
   ],
   "source": [
    "sql = \"INSERT INTO employees (EmployeeNo, FirstName, LastName, DepartmentID,Age, Phone ) VALUES (%s,%s, %s, %s, %s, %s)\"\n",
    "vals= [\n",
    "\n",
    "    ('102', 'Brigit', 'Ngen0',1,22,'7004356234'),\n",
    "    ('103', 'Victor', 'Ngeno',2,27,'7004634'),\n",
    "    ('104', 'Maria', 'Cheptoo',3,5,'700436234'),\n",
    "    ('105', 'Brian', 'Kibet',2,1,'700432634')\n",
    "      ]\n",
    "c.executemany(sql,vals)\n",
    "\n",
    "#Commit Changes to DB\n",
    "\n",
    "db.commit()\n",
    "\n",
    "print(c.rowcount, \"rows affected.\")"
   ]
  },
  {
   "cell_type": "code",
   "execution_count": 51,
   "metadata": {},
   "outputs": [
    {
     "name": "stdout",
     "output_type": "stream",
     "text": [
      "(1, '55', 'Roy', 'Kiprop', 22, None, '43234', 1)\n",
      "(2, '55', 'Roy', 'Kiprop', 22, None, '43234', 1)\n",
      "(3, '101', 'Roy', 'Kiprop', 22, None, '70043234', 1)\n",
      "(4, '101', 'Roy', 'Kiprop', 22, None, '70043234', 1)\n",
      "(5, '101', 'Roy', 'Kiprop', 22, None, '70043234', 1)\n",
      "(6, '102', 'Brigit', 'Ngen0', 22, None, '7004356234', 1)\n",
      "(7, '103', 'Victor', 'Ngeno', 27, None, '7004634', 2)\n",
      "(8, '104', 'Maria', 'Cheptoo', 5, None, '700436234', 3)\n",
      "(9, '105', 'Brian', 'Kibet', 1, None, '700432634', 2)\n",
      "(10, '102', 'Brigit', 'Ngen0', 22, None, '7004356234', 1)\n",
      "(11, '103', 'Victor', 'Ngeno', 27, None, '7004634', 2)\n",
      "(12, '104', 'Maria', 'Cheptoo', 5, None, '700436234', 3)\n",
      "(13, '105', 'Brian', 'Kibet', 1, None, '700432634', 2)\n"
     ]
    }
   ],
   "source": [
    "# SELECT\n",
    "\n",
    "q = \"SELECT * FROM employees\"\n",
    "c.execute(q)\n",
    "\n",
    "#Fetch Values\n",
    "\n",
    "result = c.fetchall()\n",
    "\n",
    "#Print one by one\n",
    "\n",
    "for row in result:\n",
    "    print(row)"
   ]
  },
  {
   "cell_type": "code",
   "execution_count": 52,
   "metadata": {},
   "outputs": [
    {
     "name": "stdout",
     "output_type": "stream",
     "text": [
      "('Roy', 22)\n",
      "('Roy', 22)\n",
      "('Roy', 22)\n",
      "('Roy', 22)\n",
      "('Roy', 22)\n",
      "('Brigit', 22)\n",
      "('Victor', 27)\n",
      "('Maria', 5)\n",
      "('Brian', 1)\n",
      "('Brigit', 22)\n",
      "('Victor', 27)\n",
      "('Maria', 5)\n",
      "('Brian', 1)\n"
     ]
    }
   ],
   "source": [
    "# SELECT SEPCI\n",
    "\n",
    "q = \"SELECT FirstName, Age  FROM employees\"\n",
    "c.execute(q)\n",
    "\n",
    "#Fetch Values\n",
    "\n",
    "result = c.fetchall()\n",
    "\n",
    "#Print one by one\n",
    "\n",
    "for row in result:\n",
    "    print(row)"
   ]
  },
  {
   "cell_type": "code",
   "execution_count": 63,
   "metadata": {},
   "outputs": [
    {
     "name": "stdout",
     "output_type": "stream",
     "text": [
      "('Roy', 22)\n",
      "('Roy', 22)\n"
     ]
    }
   ],
   "source": [
    "# SELECT WHERE / ORDER / LIMIT\n",
    "\n",
    "q = \"SELECT FirstName, Age  FROM employees WHERE Age <26  ORDER BY FirstName DESC LIMIT 2\"\n",
    "c.execute(q)\n",
    "\n",
    "#Fetch Values\n",
    "\n",
    "result = c.fetchall()\n",
    "\n",
    "#Print one by one\n",
    "\n",
    "for row in result:\n",
    "    print(row)"
   ]
  },
  {
   "cell_type": "code",
   "execution_count": 56,
   "metadata": {},
   "outputs": [
    {
     "name": "stdout",
     "output_type": "stream",
     "text": [
      "2 rows affected.\n"
     ]
    }
   ],
   "source": [
    "# DELETE \n",
    "# SELECT WHERE / ORDER\n",
    "\n",
    "q = \"DELETE  FROM employees WHERE Age <5\"\n",
    "c.execute(q)\n",
    "\n",
    "print(c.rowcount, \"rows affected.\")"
   ]
  },
  {
   "cell_type": "code",
   "execution_count": 59,
   "metadata": {},
   "outputs": [
    {
     "name": "stdout",
     "output_type": "stream",
     "text": [
      "2 rows affected.\n"
     ]
    }
   ],
   "source": [
    "# UPDATE \n",
    "\n",
    "q = \"UPDATE employees SET Age = 25 WHERE Age =5\"\n",
    "c.execute(q)\n",
    "\n",
    "print(c.rowcount, \"rows affected.\")"
   ]
  },
  {
   "cell_type": "code",
   "execution_count": 68,
   "metadata": {},
   "outputs": [
    {
     "name": "stdout",
     "output_type": "stream",
     "text": [
      "('Brigit', 'Human Resources')\n",
      "('Brigit', 'Human Resources')\n",
      "('Maria', 'Marketing')\n",
      "('Maria', 'Marketing')\n",
      "('Roy', 'Human Resources')\n",
      "('Roy', 'Human Resources')\n",
      "('Roy', 'Human Resources')\n",
      "('Roy', 'Human Resources')\n",
      "('Roy', 'Human Resources')\n",
      "('Victor', 'Engineering')\n",
      "('Victor', 'Engineering')\n"
     ]
    }
   ],
   "source": [
    "# JOINS - Get employees from Marketing  - LEFT JOIN, RIGHT JOIN \n",
    "\n",
    "q = \"SELECT employees.FirstName, Departments.name  FROM employees INNER JOIN Departments ON  employees.DepartmentID=Departments.id ORDER BY FirstName ASC\"\n",
    "c.execute(q)\n",
    "\n",
    "#Fetch Values\n",
    "\n",
    "result = c.fetchall()\n",
    "\n",
    "#Print one by one\n",
    "\n",
    "for row in result:\n",
    "    print(row)\n"
   ]
  },
  {
   "cell_type": "code",
   "execution_count": null,
   "metadata": {},
   "outputs": [],
   "source": []
  }
 ],
 "metadata": {
  "kernelspec": {
   "display_name": "env",
   "language": "python",
   "name": "python3"
  },
  "language_info": {
   "codemirror_mode": {
    "name": "ipython",
    "version": 3
   },
   "file_extension": ".py",
   "mimetype": "text/x-python",
   "name": "python",
   "nbconvert_exporter": "python",
   "pygments_lexer": "ipython3",
   "version": "3.12.1"
  }
 },
 "nbformat": 4,
 "nbformat_minor": 2
}
